{
 "cells": [
  {
   "cell_type": "markdown",
   "id": "eb2e082b-0b49-41cd-96ae-668a2d645089",
   "metadata": {},
   "source": [
    "## Question 1:\n",
    "**How does the distribution of noise (-1 class) vary across different player actions, and can it be minimized by identifying underlying factors?**\n",
    "\n"
   ]
  },
  {
   "cell_type": "markdown",
   "id": "9794587e-cd3e-49ab-904d-a43b95701e1b",
   "metadata": {},
   "source": [
    "**Benefits of finding the answer:**\n"
   ]
  },
  {
   "cell_type": "markdown",
   "id": "1a5ffa16-9a28-475c-a15c-a7f0afcf2eef",
   "metadata": {},
   "source": [
    "**Preprocessing Steps:**\n",
    "\n",
    "  \n",
    "**Analysis Steps:**\n"
   ]
  },
  {
   "cell_type": "markdown",
   "id": "e9792367-8e11-41d3-88d7-2e3ac5d5b928",
   "metadata": {},
   "source": [
    "## Question 2:\n",
    "\n",
    "**What are the key factors that influence the success rate of aerial shots in Rocket League?**"
   ]
  },
  {
   "cell_type": "markdown",
   "id": "6fdc4a88-3661-4492-9057-cffdf596d951",
   "metadata": {},
   "source": [
    "**Benefits of finding the answer:**\n"
   ]
  },
  {
   "cell_type": "markdown",
   "id": "a338bccd-a8d8-4abb-ae09-8dc3c3c7ea23",
   "metadata": {},
   "source": [
    "**Preprocessing Steps:**\n",
    "\n",
    "\n",
    "**Analysis Steps:**\n"
   ]
  },
  {
   "cell_type": "markdown",
   "id": "e24307b9-907d-4ebd-a4ec-e81b1d5892d6",
   "metadata": {},
   "source": [
    "## Question 3:\n",
    "\n",
    "**How does the frequency and timing of boost usage affect a player's performance and contribution to the team's success in Rocket League?**"
   ]
  },
  {
   "cell_type": "markdown",
   "id": "b943c026-e0c0-4a8b-9b9e-4fae346260db",
   "metadata": {},
   "source": [
    "**Benefits of finding the answer:**\n"
   ]
  },
  {
   "cell_type": "markdown",
   "id": "f2cd7953-64d6-46e3-b992-c0495c183704",
   "metadata": {},
   "source": [
    "**Preprocessing Steps:**\n",
    "\n",
    "  \n",
    "**Analysis Steps:**\n"
   ]
  },
  {
   "cell_type": "code",
   "execution_count": null,
   "id": "0ff102e0-5a5a-4f37-bed7-5e17ed263d83",
   "metadata": {},
   "outputs": [],
   "source": []
  }
 ],
 "metadata": {
  "kernelspec": {
   "display_name": "Python 3 (ipykernel)",
   "language": "python",
   "name": "python3"
  },
  "language_info": {
   "codemirror_mode": {
    "name": "ipython",
    "version": 3
   },
   "file_extension": ".py",
   "mimetype": "text/x-python",
   "name": "python",
   "nbconvert_exporter": "python",
   "pygments_lexer": "ipython3",
   "version": "3.12.7"
  }
 },
 "nbformat": 4,
 "nbformat_minor": 5
}
